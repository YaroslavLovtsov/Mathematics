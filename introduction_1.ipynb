{
 "cells": [
  {
   "cell_type": "code",
   "execution_count": 12,
   "metadata": {},
   "outputs": [
    {
     "name": "stdout",
     "output_type": "stream",
     "text": [
      "Длина вектора [3, 4, 12] равна 13.0\n"
     ]
    }
   ],
   "source": [
    "import math\n",
    "\n",
    "def vect_length(vect):\n",
    "\n",
    "    vect_length_squared = 0\n",
    "\n",
    "    for i in vect:\n",
    "        vect_length_squared += (i **2 )\n",
    "    \n",
    "    return math.sqrt(vect_length_squared)\n",
    "    \n",
    "test_vect = [3, 4, 12]\n",
    "\n",
    "print(f'Длина вектора {test_vect} равна {vect_length(test_vect)}')"
   ]
  },
  {
   "cell_type": "code",
   "execution_count": null,
   "metadata": {},
   "outputs": [],
   "source": []
  },
  {
   "cell_type": "code",
   "execution_count": null,
   "metadata": {},
   "outputs": [],
   "source": []
  }
 ],
 "metadata": {
  "kernelspec": {
   "display_name": "Python 3",
   "language": "python",
   "name": "python3"
  },
  "language_info": {
   "codemirror_mode": {
    "name": "ipython",
    "version": 3
   },
   "file_extension": ".py",
   "mimetype": "text/x-python",
   "name": "python",
   "nbconvert_exporter": "python",
   "pygments_lexer": "ipython3",
   "version": "3.8.3"
  }
 },
 "nbformat": 4,
 "nbformat_minor": 4
}
