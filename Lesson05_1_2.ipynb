{
 "cells": [
  {
   "cell_type": "code",
   "execution_count": 67,
   "metadata": {},
   "outputs": [],
   "source": [
    "%matplotlib inline\n",
    "import numpy as np\n",
    "\n",
    "import matplotlib.pyplot as plt\n",
    "import matplotlib.mlab as mlab\n",
    "\n",
    "def roulette():\n",
    "    return int(np.floor(np.random.uniform(0,37)))"
   ]
  },
  {
   "cell_type": "code",
   "execution_count": 65,
   "metadata": {},
   "outputs": [
    {
     "name": "stdout",
     "output_type": "stream",
     "text": [
      "28\n"
     ]
    }
   ],
   "source": [
    "print(roulette())"
   ]
  },
  {
   "cell_type": "code",
   "execution_count": 84,
   "metadata": {},
   "outputs": [
    {
     "name": "stdout",
     "output_type": "stream",
     "text": [
      "Сложение вероятностей: факт - 0.666, теория - 0.6486486486486487\n",
      "Умножение вероятностей: факт - 0.151, теория - 0.16216216216216217\n"
     ]
    }
   ],
   "source": [
    "not_center = 0\n",
    "even_center = 0\n",
    "\n",
    "for i in range(1000):\n",
    "    cur_num = roulette()\n",
    "    if (cur_num > 0) and (cur_num < 13):\n",
    "        not_center += 1\n",
    "    elif cur_num > 24:\n",
    "        not_center += 1\n",
    "    elif (cur_num > 0) and (cur_num % 2 == 0):\n",
    "        even_center += 1\n",
    "# сложение вероятностей - вероятность попадания в диапазоны 1-12 или 25-36 равна сумме 12/37 + 12/37 = 24/37        \n",
    "print(f'Сложение вероятностей: факт - {not_center / 1000}, теория - {24 / 37}')\n",
    "# сложение вероятностей - вероятность попадания в диапазон 13-24 равна, при этом число должно быть четным, равна произведению\n",
    "# вероятности попадания в диапазон 13-24 на вероятность выпадения четного числа при этом условии: 12/37 * 1/2 = 6/37\n",
    "print(f'Умножение вероятностей: факт - {even_center / 1000}, теория - {6 / 37}')"
   ]
  },
  {
   "cell_type": "code",
   "execution_count": 85,
   "metadata": {},
   "outputs": [
    {
     "data": {
      "image/png": "[encoded data removed]",
      "text/plain": [
       "<Figure size 432x288 with 1 Axes>"
      ]
     },
     "metadata": {
      "needs_background": "light"
     },
     "output_type": "display_data"
    }
   ],
   "source": [
    "sum_list = []\n",
    "for j in range(10):\n",
    "    cur_list = np.random.rand(10)\n",
    "    sum_list.append(sum(cur_list))\n",
    "    \n",
    "num_bins = 10\n",
    "n,bins,patches = plt.hist(sum_list, num_bins)\n",
    "plt.ylabel = 'Probability'"
   ]
  },
  {
   "cell_type": "code",
   "execution_count": null,
   "metadata": {},
   "outputs": [],
   "source": []
  },
  {
   "cell_type": "code",
   "execution_count": null,
   "metadata": {},
   "outputs": [],
   "source": []
  },
  {
   "cell_type": "code",
   "execution_count": null,
   "metadata": {},
   "outputs": [],
   "source": []
  },
  {
   "cell_type": "code",
   "execution_count": null,
   "metadata": {},
   "outputs": [],
   "source": []
  },
  {
   "cell_type": "code",
   "execution_count": null,
   "metadata": {},
   "outputs": [],
   "source": []
  }
 ],
 "metadata": {
  "kernelspec": {
   "display_name": "Python 3",
   "language": "python",
   "name": "python3"
  },
  "language_info": {
   "codemirror_mode": {
    "name": "ipython",
    "version": 3
   },
   "file_extension": ".py",
   "mimetype": "text/x-python",
   "name": "python",
   "nbconvert_exporter": "python",
   "pygments_lexer": "ipython3",
   "version": "3.8.3"
  }
 },
 "nbformat": 4,
 "nbformat_minor": 4
}
