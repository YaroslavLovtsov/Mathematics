{
 "cells": [
  {
   "cell_type": "code",
   "execution_count": 1,
   "metadata": {},
   "outputs": [],
   "source": [
    "import numpy as np\n",
    "import matplotlib.pyplot as plt\n",
    "import scipy\n",
    "import scipy.linalg"
   ]
  },
  {
   "cell_type": "code",
   "execution_count": 14,
   "metadata": {},
   "outputs": [
    {
     "data": {
      "text/plain": [
       "array([-9.2       ,  0.9       ,  6.46666667])"
      ]
     },
     "execution_count": 14,
     "metadata": {},
     "output_type": "execute_result"
    }
   ],
   "source": [
    "# 6.1\n",
    "A = np.array([[1,2,3],[4,0,6],[7,8,9]])\n",
    "B =np.array([12,2,1])\n",
    "\n",
    "np.linalg.solve(A,B)"
   ]
  },
  {
   "cell_type": "code",
   "execution_count": 22,
   "metadata": {},
   "outputs": [
    {
     "data": {
      "text/plain": [
       "(array([ 1.13919353, -0.90498444, -0.9009803 ]),\n",
       " array([0.71523211]),\n",
       " 3,\n",
       " array([15.2817306 ,  9.59852942,  3.65197794]))"
      ]
     },
     "execution_count": 22,
     "metadata": {},
     "output_type": "execute_result"
    }
   ],
   "source": [
    "# 6.2\n",
    "A2 = np.array([[1,2,-1],[3,-4,0],[8,-5,2],[2,0,-5],[11,4,-7]])\n",
    "B2 = np.array([1,7,12,7,15])\n",
    "\n",
    "np.linalg.lstsq(A2,B2,rcond = None)"
   ]
  },
  {
   "cell_type": "code",
   "execution_count": 15,
   "metadata": {},
   "outputs": [
    {
     "data": {
      "text/plain": [
       "array([ 2.83726777e+16, -5.67453553e+16,  2.83726777e+16])"
      ]
     },
     "execution_count": 15,
     "metadata": {},
     "output_type": "execute_result"
    }
   ],
   "source": [
    "# 6.3 - на самом деле эта система решений не имеет\n",
    "A3 = np.array([[1,2,3],[4,5,6],[7,8,9]])\n",
    "B3 = np.array([12,2,1])\n",
    "\n",
    "np.linalg.solve(A3,B3)"
   ]
  },
  {
   "cell_type": "code",
   "execution_count": 16,
   "metadata": {},
   "outputs": [
    {
     "data": {
      "text/plain": [
       "array([-1., 14., -9.])"
      ]
     },
     "execution_count": 16,
     "metadata": {},
     "output_type": "execute_result"
    }
   ],
   "source": [
    "# если поменять вектор B на (0,12,24) такая система будет иметь решение\n",
    "# z = -1/3x-2/3y\n",
    "# z = 4 - x - y\n",
    "# показано на листочке\n",
    "\n",
    "B3_1 =np.array([0,12,24])\n",
    "np.linalg.solve(A3,B3_1)"
   ]
  },
  {
   "cell_type": "code",
   "execution_count": 24,
   "metadata": {},
   "outputs": [
    {
     "name": "stdout",
     "output_type": "stream",
     "text": [
      "[[0. 0. 1.]\n",
      " [0. 1. 0.]\n",
      " [1. 0. 0.]]\n",
      "[[1.    0.    0.   ]\n",
      " [0.5   1.    0.   ]\n",
      " [0.25  0.625 1.   ]]\n",
      "[[  4.      28.      73.    ]\n",
      " [  0.      -8.     -15.5   ]\n",
      " [  0.       0.      -5.5625]]\n"
     ]
    },
    {
     "data": {
      "text/plain": [
       "array([-3.,  1., -0.])"
      ]
     },
     "execution_count": 24,
     "metadata": {},
     "output_type": "execute_result"
    }
   ],
   "source": [
    "# 6.4\n",
    "A4 = np.array([[1,2,3],[2,6,21],[4,28,73]])\n",
    "P,L,U = scipy.linalg.lu(A4)\n",
    "print(P)\n",
    "print(L)\n",
    "print(U)\n",
    "B4 = np.array([-1,0,16])\n",
    "np.linalg.solve(A4,B4)"
   ]
  },
  {
   "cell_type": "code",
   "execution_count": 26,
   "metadata": {},
   "outputs": [
    {
     "data": {
      "text/plain": [
       "(array([ 1.38191882, -0.18081181,  0.0202952 ]),\n",
       " array([], dtype=float64),\n",
       " 2,\n",
       " array([9.65316119, 2.41173777]))"
      ]
     },
     "execution_count": 26,
     "metadata": {},
     "output_type": "execute_result"
    }
   ],
   "source": [
    "# 6.5\n",
    "def Q(x,y,z):\n",
    "    return np.sqrt(x**2 + y**2 + z**2)\n",
    "\n",
    "A5 = np.array([[1,2,-1],[8,-5,2]])\n",
    "B5 = np.array([1,12])\n",
    "\n",
    "np.linalg.lstsq(A5,B5,rcond = None)"
   ]
  },
  {
   "cell_type": "code",
   "execution_count": 23,
   "metadata": {},
   "outputs": [
    {
     "data": {
      "text/plain": [
       "(array([ 1.13919353, -0.90498444, -0.9009803 ]),\n",
       " array([0.71523211]),\n",
       " 3,\n",
       " array([15.2817306 ,  9.59852942,  3.65197794]))"
      ]
     },
     "execution_count": 23,
     "metadata": {},
     "output_type": "execute_result"
    }
   ],
   "source": [
    "# 6.6\n",
    "A6 = np.array([[1,2,3],[4,5,6],[7,8,9]])\n",
    "B6 = np.array([2,5,11])\n",
    "\n",
    "np.linalg.lstsq(A2,B2,rcond = None)"
   ]
  },
  {
   "cell_type": "code",
   "execution_count": null,
   "metadata": {},
   "outputs": [],
   "source": []
  }
 ],
 "metadata": {
  "kernelspec": {
   "display_name": "Python 3",
   "language": "python",
   "name": "python3"
  },
  "language_info": {
   "codemirror_mode": {
    "name": "ipython",
    "version": 3
   },
   "file_extension": ".py",
   "mimetype": "text/x-python",
   "name": "python",
   "nbconvert_exporter": "python",
   "pygments_lexer": "ipython3",
   "version": "3.8.3"
  }
 },
 "nbformat": 4,
 "nbformat_minor": 4
}
