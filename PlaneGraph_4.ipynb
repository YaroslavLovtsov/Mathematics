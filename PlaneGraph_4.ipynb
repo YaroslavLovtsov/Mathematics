{
 "cells": [
  {
   "cell_type": "code",
   "execution_count": 41,
   "metadata": {},
   "outputs": [
    {
     "name": "stdout",
     "output_type": "stream",
     "text": [
      "-1.5818353528956448 1.5022030836715758\n",
      "2.6181455730857284 5.854686241868741\n",
      "4.200105841149689 16.640889076862805\n",
      "0.0 -1.0\n"
     ]
    }
   ],
   "source": [
    "%matplotlib inline\n",
    "import numpy as np\n",
    "import matplotlib.pyplot as plt\n",
    "\n",
    "from scipy.optimize import fsolve\n",
    "\n",
    "def equations(p):\n",
    "    x,y = p\n",
    "    return(y-x**2+1, np.exp(x)+x*(1-y)-1)\n",
    "\n",
    "x1,y1 = fsolve(equations,(-1,0))\n",
    "print(x1,y1)\n",
    "\n",
    "x2,y2 = fsolve(equations,(2.5,5.25))\n",
    "print(x2,y2)\n",
    "\n",
    "x3,y3 = fsolve(equations,(4,15))\n",
    "print(x3,y3)\n",
    "\n",
    "x4,y4 = fsolve(equations,(0,-1))\n",
    "print(x4,y4)\n"
   ]
  },
  {
   "cell_type": "code",
   "execution_count": 40,
   "metadata": {},
   "outputs": [
    {
     "name": "stdout",
     "output_type": "stream",
     "text": [
      "Для решения неравенства выразим y через x из первого уравнения и подставим в неравенство\n",
      "Как видно из графика функции, наше неравенство будет выполняться для y= x**2-1 при x, лежащих в следующих интервалах:\n",
      "x < -1.5818353528956448\n",
      "0 < x < 2.6181455730857284\n",
      "x > 4.200105841149689\n"
     ]
    },
    {
     "data": {
      "image/png": "[encoded data removed]",
      "text/plain": [
       "<Figure size 432x288 with 1 Axes>"
      ]
     },
     "metadata": {
      "needs_background": "light"
     },
     "output_type": "display_data"
    }
   ],
   "source": [
    "x = np.linspace(-4,5,1000)\n",
    "\n",
    "plt.plot([-4,6],[0,0], color = 'red', linewidth = 0.75, linestyle = \"--\")\n",
    "plt.plot(x, np.exp(x)-1+x*(2-x*x))\n",
    "\n",
    "print('Для решения неравенства выразим y через x из первого уравнения и подставим в неравенство')\n",
    "print('Как видно из графика функции, наше неравенство будет выполняться для y= x**2-1 при x, лежащих в следующих интервалах:')\n",
    "print('x < -1.5818353528956448')\n",
    "print('0 < x < 2.6181455730857284')\n",
    "print('x > 4.200105841149689')\n",
    "\n"
   ]
  },
  {
   "cell_type": "code",
   "execution_count": null,
   "metadata": {},
   "outputs": [],
   "source": []
  }
 ],
 "metadata": {
  "kernelspec": {
   "display_name": "Python 3",
   "language": "python",
   "name": "python3"
  },
  "language_info": {
   "codemirror_mode": {
    "name": "ipython",
    "version": 3
   },
   "file_extension": ".py",
   "mimetype": "text/x-python",
   "name": "python",
   "nbconvert_exporter": "python",
   "pygments_lexer": "ipython3",
   "version": "3.8.3"
  }
 },
 "nbformat": 4,
 "nbformat_minor": 4
}
