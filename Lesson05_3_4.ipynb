{
 "cells": [
  {
   "cell_type": "code",
   "execution_count": 1,
   "metadata": {},
   "outputs": [],
   "source": [
    "import numpy as np\n",
    "import itertools"
   ]
  },
  {
   "cell_type": "code",
   "execution_count": 10,
   "metadata": {},
   "outputs": [],
   "source": [
    "def factorial(n):\n",
    "    if n==0:\n",
    "        return 1\n",
    "    else:\n",
    "        return n * factorial(n-1)"
   ]
  },
  {
   "cell_type": "code",
   "execution_count": 7,
   "metadata": {},
   "outputs": [],
   "source": [
    "\"\"\"\n",
    "p - число, количество которых мы ищем в массиве-сумме\n",
    "m - количество складываемых массивов\n",
    "n - длина массивов\n",
    "\n",
    "\"\"\"\n",
    "def Task3(p, m, n):\n",
    "    k = 0\n",
    "    x = [0 for j in range(0,n)]\n",
    "\n",
    "    for l in range(m):\n",
    "        a = np.random.randint(0,2,n)\n",
    "        x += a\n",
    "    \n",
    "    for i in range(0,n):\n",
    "        if x[i] == p:\n",
    "            k = k + 1\n",
    "        \n",
    "    print(k/n, factorial(m) / factorial(p) / factorial(m-p) / (2 ** m))"
   ]
  },
  {
   "cell_type": "code",
   "execution_count": 14,
   "metadata": {},
   "outputs": [
    {
     "name": "stdout",
     "output_type": "stream",
     "text": [
      "0.3718 0.375\n"
     ]
    }
   ],
   "source": [
    "# 3.1\n",
    "Task3(2,4,10000)"
   ]
  },
  {
   "cell_type": "code",
   "execution_count": 9,
   "metadata": {},
   "outputs": [
    {
     "name": "stdout",
     "output_type": "stream",
     "text": [
      "0.2461 0.24609375\n"
     ]
    }
   ],
   "source": [
    "# 3.2\n",
    "Task3(4,9,10000)"
   ]
  },
  {
   "cell_type": "code",
   "execution_count": 13,
   "metadata": {},
   "outputs": [
    {
     "name": "stdout",
     "output_type": "stream",
     "text": [
      "0.2257 0.2255859375\n"
     ]
    }
   ],
   "source": [
    "# 3.2\n",
    "Task3(6,11,10000)"
   ]
  },
  {
   "cell_type": "code",
   "execution_count": 30,
   "metadata": {},
   "outputs": [
    {
     "name": "stdout",
     "output_type": "stream",
     "text": [
      "Количество перестановок из 17 элементов по 6 равно 8910720\n",
      "Количество перестановок из 17 элементов по 6 равно 12376\n"
     ]
    }
   ],
   "source": [
    "# 4\n",
    "\n",
    "\"\"\"\n",
    "l - число от 1 до 36\n",
    "\n",
    "\"\"\"\n",
    "def test_str_gen(l):\n",
    "    test_str = ''\n",
    "    for str1 in range(ord(\"0\"),1 + ord(\"9\")):\n",
    "        test_str += chr(str1)\n",
    "    \n",
    "    for str1 in range(ord(\"a\"),1 + ord(\"z\")):\n",
    "        test_str += chr(str1)\n",
    "        \n",
    "    return(test_str[0:l])\n",
    "    \n",
    "\"\"\"\n",
    "n,k - неотрицательные целые числа, n >= k\n",
    "\n",
    "\"\"\"\n",
    "def permut_combin_info(n,k):\n",
    "    y_permut = []\n",
    "    y_combin = []\n",
    "    \n",
    "    test_str = test_str_gen(n)\n",
    "    for s_permut in itertools.permutations(test_str,k):\n",
    "        y_permut.append(s_permut)\n",
    "    print(f'Количество перестановок из {n} элементов по {k} равно {len(y_permut)}')    \n",
    "    for s_combin in itertools.combinations(test_str,k):\n",
    "        y_combin.append(s_combin)\n",
    "    print(f'Количество перестановок из {n} элементов по {k} равно {len(y_combin)}')    \n",
    "    \n",
    "permut_combin_info(17,6)"
   ]
  },
  {
   "cell_type": "code",
   "execution_count": null,
   "metadata": {},
   "outputs": [],
   "source": []
  }
 ],
 "metadata": {
  "kernelspec": {
   "display_name": "Python 3",
   "language": "python",
   "name": "python3"
  },
  "language_info": {
   "codemirror_mode": {
    "name": "ipython",
    "version": 3
   },
   "file_extension": ".py",
   "mimetype": "text/x-python",
   "name": "python",
   "nbconvert_exporter": "python",
   "pygments_lexer": "ipython3",
   "version": "3.8.3"
  }
 },
 "nbformat": 4,
 "nbformat_minor": 4
}
